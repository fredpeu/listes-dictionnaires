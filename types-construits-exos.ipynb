{
 "cells": [
  {
   "cell_type": "markdown",
   "metadata": {},
   "source": [
    "# <div align=\"center\">CORRECTION DES EXERCICES</div>\n",
    "<br>"
   ]
  },
  {
   "cell_type": "markdown",
   "metadata": {},
   "source": [
    "## CALCUL D´UN MOYENNE                             "
   ]
  },
  {
   "cell_type": "code",
   "execution_count": null,
   "metadata": {},
   "outputs": [],
   "source": [
    "marta= [10, 15, 11, 18, 7, 12, 13, 16, 18]\n",
    "tiago= [8, 11, 12, 14, 10, 9, 15, 12, 11,13,18]"
   ]
  },
  {
   "cell_type": "markdown",
   "metadata": {},
   "source": [
    "<br>*Compléter la fonction `moyenne(liste)` qui permet de calculer la moyenne d´un élève arrondie au dixième.*"
   ]
  },
  {
   "cell_type": "code",
   "execution_count": null,
   "metadata": {},
   "outputs": [],
   "source": [
    "def moyenne(liste):  \n",
    "    somme=0                 #initialisation de la somme\n",
    "    for i in liste:  \n",
    "        somme+=i   # calcul de la somme (équivalent á somme=somme+i)\n",
    "    nb=len(liste)              #nombre de notes\n",
    "    moyenne=round(somme/nb,1)    #moyenne arrondie au dixième\n",
    "    return moyenne     #retour de la valeur calculée"
   ]
  },
  {
   "cell_type": "code",
   "execution_count": null,
   "metadata": {},
   "outputs": [],
   "source": [
    "moyenne(marta)"
   ]
  },
  {
   "cell_type": "code",
   "execution_count": null,
   "metadata": {},
   "outputs": [],
   "source": [
    "moyenne(tiago)"
   ]
  },
  {
   "cell_type": "markdown",
   "metadata": {},
   "source": [
    "<br>*Le professeur décide de cocher la case \"enlever la plus mauvaise note\". A l´aide de la fonction indexMini(liste), affichez la moyenne corrigée de Marta et Tiago.*"
   ]
  },
  {
   "cell_type": "code",
   "execution_count": null,
   "metadata": {},
   "outputs": [],
   "source": [
    "def indexMini(liste):  \n",
    "    \"\"\"détermination de l´index \n",
    "    de la plus mauvaise note\"\"\"  \n",
    "    return liste.index(min(liste))  "
   ]
  },
  {
   "cell_type": "code",
   "execution_count": null,
   "metadata": {},
   "outputs": [],
   "source": [
    "#affichage des index de la plus mauvaise note, appel de la fonction   indexMini(liste)\n",
    "indexMini(marta)\n",
    "#on la supprime  par la fonction pop()\n",
    "marta.pop(indexMini(marta))  \n",
    "#affichage de la moyenne corrigée par rappel de la fonction moyenne()\n",
    "moyenne(marta)"
   ]
  },
  {
   "cell_type": "code",
   "execution_count": null,
   "metadata": {},
   "outputs": [],
   "source": [
    "#affichage des index de la plus mauvaise note, appel de la fonction   indexMini(liste)\n",
    "indexMini(tiago)\n",
    "#on la supprime  par la fonction pop()\n",
    "tiago.pop(indexMini(tiago))  \n",
    "#affichage de la moyenne corrigée par rappel de la fonction moyenne()\n",
    "moyenne(tiago)"
   ]
  },
  {
   "cell_type": "markdown",
   "metadata": {},
   "source": [
    "## DICTIONNAIRES"
   ]
  },
  {
   "cell_type": "code",
   "execution_count": null,
   "metadata": {},
   "outputs": [],
   "source": [
    "dico = {\"a\": True, \"b\": False, \"c\": False}"
   ]
  },
  {
   "cell_type": "markdown",
   "metadata": {},
   "source": [
    "<br>*Quelle est la valeur de dico[1] ?*"
   ]
  },
  {
   "cell_type": "code",
   "execution_count": null,
   "metadata": {},
   "outputs": [],
   "source": [
    "# va retourner une erreur...\n",
    "dico[1]"
   ]
  },
  {
   "cell_type": "markdown",
   "metadata": {},
   "source": [
    "<br>*Quelle est la valeur de `dico[\"a\"]` ?*"
   ]
  },
  {
   "cell_type": "code",
   "execution_count": null,
   "metadata": {},
   "outputs": [],
   "source": [
    "dico[\"a\"] "
   ]
  },
  {
   "cell_type": "markdown",
   "metadata": {},
   "source": [
    "<br>*Quelle instruction permet de modifier le dictionnaire de façon à ce que sa nouvelle valeur soit*  `{\"a\": True, \"b\": False, \"c\": False, \"e\": True}`? "
   ]
  },
  {
   "cell_type": "code",
   "execution_count": null,
   "metadata": {},
   "outputs": [],
   "source": [
    "dico[\"e\"] = True\n",
    "print(dico)"
   ]
  },
  {
   "cell_type": "markdown",
   "metadata": {},
   "source": [
    "<br>*Quels sont les affichages possibles lors de l’exécution du code suivant ?*<br>\n",
    "\t```for i in dico.keys():   \n",
    "\t    print(i, end=\" \") ```\n"
   ]
  },
  {
   "cell_type": "code",
   "execution_count": null,
   "metadata": {},
   "outputs": [],
   "source": [
    "for i in dico.keys():\n",
    "    print(i, end=\" \")"
   ]
  },
  {
   "cell_type": "markdown",
   "metadata": {},
   "source": [
    "<br>*Quels sont les affichages possibles lors de l’exécution du code suivant ?*<br>\n",
    "\t```\tfor i in dico.items():   \n",
    "\t    print(i, end=\" \")   \n",
    " ```\n"
   ]
  },
  {
   "cell_type": "code",
   "execution_count": null,
   "metadata": {},
   "outputs": [],
   "source": [
    "for i in dico.items():\n",
    "    print(i, end=\" \")   "
   ]
  },
  {
   "cell_type": "markdown",
   "metadata": {},
   "source": [
    "\n",
    "## COMPREHENSIONS ET STRUCTURES IMBRIQUEES "
   ]
  },
  {
   "cell_type": "markdown",
   "metadata": {},
   "source": [
    "<br>Si liste désigne la liste `[1, [2, 3], [4, 5], 6, 7]`, que vaut `len(liste)` ? "
   ]
  },
  {
   "cell_type": "code",
   "execution_count": null,
   "metadata": {},
   "outputs": [],
   "source": [
    "liste=[1, [2, 3], [4, 5], 6, 7]\n",
    "len(liste)"
   ]
  },
  {
   "cell_type": "markdown",
   "metadata": {},
   "source": [
    "<br>Que vaut `[2 * n for n in range(5)]` ? "
   ]
  },
  {
   "cell_type": "code",
   "execution_count": null,
   "metadata": {},
   "outputs": [],
   "source": [
    "liste=[1, [2, 3], [4, 5], 6, 7]\n",
    "[2 * n for n in range(5)]"
   ]
  },
  {
   "cell_type": "markdown",
   "metadata": {},
   "source": [
    "<br>Supposons que `liste = [-5, 2, 3, -7, 42, 7]`. Que vaut `[n for n in liste if n > 0]` ? "
   ]
  },
  {
   "cell_type": "code",
   "execution_count": null,
   "metadata": {},
   "outputs": [],
   "source": [
    "liste= [-5, 2, 3, -7, 42, 7]\n",
    "[n for n in liste if n > 0]"
   ]
  },
  {
   "cell_type": "markdown",
   "metadata": {},
   "source": [
    "\n",
    "\n",
    "## CARRÉ MAGIQUE"
   ]
  },
  {
   "cell_type": "code",
   "execution_count": null,
   "metadata": {},
   "outputs": [],
   "source": [
    "carre3=[\n",
    "    [2,7,6],\n",
    "    [9,5,1],\n",
    "    [4,3,8],\n",
    "]\n",
    "\n",
    "carre4=[\n",
    "    [4,5,11,14],\n",
    "    [15,10,8,1],\n",
    "    [6,3,13,12],\n",
    "    [9,16,2,7]\n",
    "]"
   ]
  },
  {
   "cell_type": "code",
   "execution_count": null,
   "metadata": {},
   "outputs": [],
   "source": [
    "print('len(carre4)-->',len(carre4))\n",
    "print('carre3[1]-->',carre3[1] )\n",
    "print('carre3[0][2]-->',carre3[0][2] )"
   ]
  },
  {
   "cell_type": "code",
   "execution_count": null,
   "metadata": {},
   "outputs": [],
   "source": [
    "def somme_ligne(carre,n):\n",
    "    \"\"\"carre est un tableau carré de nombres\n",
    "    n est un nombre entier\"\"\"\n",
    "    somme=0\n",
    "    for i in carre[n]:\n",
    "        somme+=i\n",
    "    return somme\n"
   ]
  },
  {
   "cell_type": "markdown",
   "metadata": {},
   "source": [
    "<br>Que vaut `somme_ligne(carre4, 2)` ? À quoi sert cette fonction ?"
   ]
  },
  {
   "cell_type": "code",
   "execution_count": null,
   "metadata": {},
   "outputs": [],
   "source": [
    "# test avec le carre4\n",
    "somme_ligne(carre4, 2)\n",
    "# Elle fait la somme d'une ligne de la liste"
   ]
  },
  {
   "cell_type": "code",
   "execution_count": null,
   "metadata": {},
   "outputs": [],
   "source": [
    "# test avec le carre3, première ligne\n",
    "somme_ligne(carre3, 0)"
   ]
  },
  {
   "cell_type": "markdown",
   "metadata": {},
   "source": [
    "<br>*Écrire le code d’une fonction qui prend un carré en paramètre et qui vérifie que les sommes des nombres de chaque ligne sont égales.*"
   ]
  },
  {
   "cell_type": "code",
   "execution_count": null,
   "metadata": {},
   "outputs": [],
   "source": [
    "def somme_des_lignes(carre):\n",
    "    somme = somme_ligne(carre, 0)\n",
    "    for i in range(1, len(carre)):\n",
    "        if somme != somme_ligne(carre,i):\n",
    "            return False\n",
    "    return True"
   ]
  },
  {
   "cell_type": "code",
   "execution_count": null,
   "metadata": {},
   "outputs": [],
   "source": [
    "# test avec le carre3\n",
    "somme_des_lignes(carre3)"
   ]
  },
  {
   "cell_type": "code",
   "execution_count": null,
   "metadata": {},
   "outputs": [],
   "source": [
    "# test avec le carre4\n",
    "somme_des_lignes(carre4)"
   ]
  },
  {
   "cell_type": "markdown",
   "metadata": {},
   "source": [
    "<br>*Proposer le code d’une fonction qui prend un carré en paramètre, ainsi que le numéro d’une colonne, et qui renvoie la somme des nombres de cette colonne.*"
   ]
  },
  {
   "cell_type": "code",
   "execution_count": null,
   "metadata": {},
   "outputs": [],
   "source": [
    "def somme_des_colonnes (carre,n):\n",
    "    somme = 0\n",
    "    for i in range(len(carre)):\n",
    "        somme+=carre[i][n]\n",
    "    return somme"
   ]
  },
  {
   "cell_type": "code",
   "execution_count": null,
   "metadata": {},
   "outputs": [],
   "source": [
    "# test avec le carre4, deuxième colonne\n",
    "somme_des_colonnes(carre4,1)"
   ]
  },
  {
   "cell_type": "markdown",
   "metadata": {},
   "source": [
    "<br>Pour info, la somme des diagonales:"
   ]
  },
  {
   "cell_type": "code",
   "execution_count": null,
   "metadata": {},
   "outputs": [],
   "source": [
    "def somme_diagonales (carre):\n",
    "    somme1,somme2 = 0,0\n",
    "    for i in range(len(carre)):\n",
    "        somme1+=carre[i][i]\n",
    "        somme2+=carre[i][len(carre)-1-i]\n",
    "    return somme1,somme2"
   ]
  },
  {
   "cell_type": "markdown",
   "metadata": {},
   "source": [
    "\n",
    "## LA RECHERCHE DU MINIUM"
   ]
  },
  {
   "cell_type": "markdown",
   "metadata": {},
   "source": [
    "http://www.fredpeuriere.com/NSI/algos-1/algorithmes-illustres/min.html"
   ]
  },
  {
   "cell_type": "code",
   "execution_count": null,
   "metadata": {},
   "outputs": [],
   "source": [
    "def minimum (liste):\n",
    "    min=liste[0]\n",
    "    for i in range(len(liste)):\n",
    "        if liste[i]<min:\n",
    "            min=liste[i]\n",
    "    return (min,liste.index(min))"
   ]
  },
  {
   "cell_type": "code",
   "execution_count": null,
   "metadata": {},
   "outputs": [],
   "source": [
    "# test, la fonction retourne le minimum et son indice (sous forme de tuple)\n",
    "tiago= [8, 11, 12, 14, 10, 9, 15, 12, 11,13,18]\n",
    "minimum(tiago)"
   ]
  }
 ],
 "metadata": {
  "kernelspec": {
   "display_name": "Python 3",
   "language": "python",
   "name": "python3"
  },
  "language_info": {
   "codemirror_mode": {
    "name": "ipython",
    "version": 3
   },
   "file_extension": ".py",
   "mimetype": "text/x-python",
   "name": "python",
   "nbconvert_exporter": "python",
   "pygments_lexer": "ipython3",
   "version": "3.7.4"
  }
 },
 "nbformat": 4,
 "nbformat_minor": 2
}
